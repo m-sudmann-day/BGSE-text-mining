{
 "cells": [
  {
   "cell_type": "markdown",
   "metadata": {},
   "source": [
    "## Week 0 HW2\n",
    "\n",
    "1. This assignment is an individual effort.\n",
    "2. Submission to be uploaded into your group repositories in the folder python_intro\n",
    "3. Deadline is 20th of April 5:00 PM.\n",
    "4. Please follow google's [python styleguide](https://google.github.io/styleguide/pyguide.html) for your code. Pay attention to the guidelines for naming convention, comments and main.\n",
    "5. Code will be checked for plagiarism. Compelling signs of a duplicated effort will lead to a rejection of submission and will attract a 100\\% grade penalty.\n"
   ]
  },
  {
   "cell_type": "markdown",
   "metadata": {},
   "source": [
    "### 1\n",
    "Please load the file provided to you by email. Use _json_ module to read it as a list. "
   ]
  },
  {
   "cell_type": "code",
   "execution_count": 1,
   "metadata": {
    "collapsed": false,
    "scrolled": true
   },
   "outputs": [
    {
     "data": {
      "text/plain": [
       "list"
      ]
     },
     "execution_count": 1,
     "metadata": {},
     "output_type": "execute_result"
    }
   ],
   "source": [
    "# 1 use open a connection to the file\n",
    "# 2 read contents of the file\n",
    "# 3 use the json module to read the string as a list\n",
    "#(replace None with relevant code)\n",
    "import json\n",
    "\n",
    "file_handle = open('1897_McKinley_miquel.txt')\n",
    "file_content = file_handle.read()\n",
    "speech = json.loads(file_content)\n",
    "type(speech)  # list"
   ]
  },
  {
   "cell_type": "markdown",
   "metadata": {},
   "source": [
    "Notice that type(speech) is list. Please take a moment to go through the python list documentation and check out the various ways to manipulate lists.  "
   ]
  },
  {
   "cell_type": "markdown",
   "metadata": {},
   "source": [
    "### 2\n",
    "\n",
    "The first element of the list is the year of speech, the second element is the president who gave it, while the third is the transcript of the same. \n",
    "\n",
    "1. Inspect the transcript. Note the commonly used non-alphanumerical characters. Use an appropriate method of strings to get rid of them.\n",
    "2. Use an appropriate string method to split the string of the speech into a list of smaller list of words.\n",
    "3. Convert all words into lower case and return the list. Use a for loop. Then use a list comprehension to do the same.  "
   ]
  },
  {
   "cell_type": "code",
   "execution_count": 2,
   "metadata": {
    "collapsed": false
   },
   "outputs": [],
   "source": [
    "import re\n",
    "\n",
    "#1 \n",
    "#print(speech[2])\n",
    "stripped_text = re.sub(r'\\W+', ' ', speech[2])\n",
    "\n",
    "#2\n",
    "word_list = stripped_text.split()\n",
    "\n",
    "#3 \n",
    "words = []\n",
    "for w in word_list:\n",
    "    words.append(w.lower())\n",
    "\n",
    "lower_words = [w.lower() for w in word_list]\n",
    "#print(words)\n",
    "#print(lower_words)  # identical"
   ]
  },
  {
   "cell_type": "markdown",
   "metadata": {},
   "source": [
    "### 3\n",
    "Create a function _preprocess_ that takes as arguments _text_ and _non_alphanum_, a string of non-alphanumeric characters that you want get rid of. Perform all operations specfied in the previous question. However, converting to lowercase should be an optional argument. The data structure returned should be a list of words."
   ]
  },
  {
   "cell_type": "code",
   "execution_count": 3,
   "metadata": {
    "collapsed": false
   },
   "outputs": [
    {
     "name": "stdout",
     "output_type": "stream",
     "text": [
      "<type 'list'>\n"
     ]
    }
   ],
   "source": [
    "def preprocess(text, non_alphanum_chars, lower = True):\n",
    "    clean_text = re.sub(non_alphanum_chars, ' ', text)\n",
    "    word_list = clean_text.split()\n",
    "    if lower == True:\n",
    "        out = [w.lower() for w in word_list]\n",
    "    else:\n",
    "        out = word_list\n",
    "    return out\n",
    "\n",
    "# Call the function\n",
    "trial = preprocess(speech[2], '\\W+')\n",
    "print(type(trial))\n",
    "#print(trial)"
   ]
  },
  {
   "cell_type": "markdown",
   "metadata": {},
   "source": [
    "### 4\n",
    "Create a function _word_freq_ that takes as input a word list that has been preprocessed and returns a dictionary of the word frequency. Which is the fourth most frequent word of your word list? (Provide code that computes it)"
   ]
  },
  {
   "cell_type": "code",
   "execution_count": 4,
   "metadata": {
    "collapsed": false
   },
   "outputs": [
    {
     "name": "stdout",
     "output_type": "stream",
     "text": [
      "and\n",
      "<type 'dict'>\n"
     ]
    }
   ],
   "source": [
    "def word_freq(word_list):\n",
    "    freq = {}\n",
    "    for word in word_list:\n",
    "        if word in freq:\n",
    "            freq[word] += 1\n",
    "        else:\n",
    "            freq[word] = 1\n",
    "    return(freq)\n",
    "\n",
    "# Call the function\n",
    "freqs = word_freq(trial)  # \"trial\" has gone through preprocess in (#3)\n",
    "\n",
    "# Look for the fourth most frequent word\n",
    "fourth = sorted(freqs, key = freqs.get, reverse = True)[3]\n",
    "print(fourth)  # \"and\"\n",
    "print(type(freqs))  # dict"
   ]
  },
  {
   "cell_type": "markdown",
   "metadata": {},
   "source": [
    "### 5\n",
    "Write a function that takes as input a word list and returns a dictionary of the frequencies of word lengths. Do not use the api collections for this assignment. But have a look at its [documentation](https://docs.python.org/2/library/collections.html). Its useful tool to have in your repository."
   ]
  },
  {
   "cell_type": "code",
   "execution_count": 5,
   "metadata": {
    "collapsed": false
   },
   "outputs": [
    {
     "name": "stdout",
     "output_type": "stream",
     "text": [
      "{1: 244, 2: 2471, 3: 2694, 4: 1510, 5: 1043, 6: 1002, 7: 900, 8: 767, 9: 585, 10: 499, 11: 238, 12: 149, 13: 76, 14: 38, 15: 8, 16: 1, 17: 2}\n"
     ]
    }
   ],
   "source": [
    "def word_length_freq(word_list):\n",
    "    chars = {}\n",
    "    for word in word_list:\n",
    "        # Trim white spaces if necessary\n",
    "        nchars = len(word.strip())\n",
    "        if nchars in chars:\n",
    "            chars[nchars] += 1\n",
    "        else:\n",
    "            chars[nchars] = 1\n",
    "    return(chars)\n",
    "\n",
    "# Call the function\n",
    "lengths = word_length_freq(trial)\n",
    "print(lengths)"
   ]
  },
  {
   "cell_type": "markdown",
   "metadata": {},
   "source": [
    "### 6\n",
    "Load the file _sou_all.txt_ in ./data/pres_speech. Inspect its contents. Familiarise yourself with using regular expressions in python. You can use this [document](https://docs.python.org/2/howto/regex.html) as a starting point. Now use regular expressions to seperate the different speeches. Your function should accept the text and a regular expression as input and return a list of lists. Each element of the list should be a list with following structure:\n",
    "\n",
    "1. year\n",
    "2. president\n",
    "3. List of the transcript of the speech broken down into paragraphs.\n",
    "\n",
    "Save your result as json"
   ]
  },
  {
   "cell_type": "code",
   "execution_count": 6,
   "metadata": {
    "collapsed": false
   },
   "outputs": [
    {
     "name": "stdout",
     "output_type": "stream",
     "text": [
      "<type 'list'>\n",
      "<type 'list'>\n"
     ]
    }
   ],
   "source": [
    "def separate_speeches(regexp = None):\n",
    "    if regexp == None:\n",
    "        splitted = all_speeches.split('**********_')  # All speeches start with this\n",
    "    else:\n",
    "        splitted = all_speeches.split(regexp)  # If user wants to separate by sth else\n",
    "\n",
    "    # The first element is empty\n",
    "    splitted = splitted[1:len(splitted)]\n",
    "\n",
    "    # Organize each speech\n",
    "    listed_speeches = []\n",
    "    for chunk in splitted:\n",
    "        # Year: first stratight characters are numbers\n",
    "        year = str(re.findall('[0-9][0-9][0-9][0-9]', chunk)[0])\n",
    "\n",
    "        # President's name:\n",
    "        # start with upper case, continue with lower case and end with \"*\" (first time)\n",
    "        pres = str(re.findall('([A-Z][a-z]+)_+[*]', chunk)[0])\n",
    "\n",
    "        # Paragraphs broken by two breaking lines (and get rid of empty lines)\n",
    "        pars = re.split(r'\\n\\n', chunk)\n",
    "        pars = filter(None, pars[1:len(pars)])  # First element is president's name\n",
    "        pars = [p.strip() for p in pars]  # Suppress final space\n",
    "\n",
    "        # Put it all together\n",
    "        element = [year, pres, pars]  # \"pars\" is a nested list\n",
    "\n",
    "        # Update resulting object\n",
    "        listed_speeches.append(element)\n",
    "    \n",
    "    # End\n",
    "    return listed_speeches\n",
    "    \n",
    "# The text is utf-8 encoded so we can't use regular \"open\"\n",
    "import codecs\n",
    "all_speeches = codecs.open('sou_all.txt', encoding = 'utf-8').read()\n",
    "\n",
    "# Call the function\n",
    "listed_speeches = separate_speeches()\n",
    "listed_speeches2 = separate_speeches('**********_')\n",
    "#print(len(listed_speeches), len(listed_speeches2))  # identical\n",
    "#print(listed_speeches[0], listed_speeches2[0])  # identical\n",
    "print(type(listed_speeches))  # list\n",
    "print(type(listed_speeches[0]))  # list\n",
    "\n",
    "# Save the results in a json file\n",
    "json.dump(listed_speeches, open('sou_all_clean.json', 'w'))"
   ]
  }
 ],
 "metadata": {
  "kernelspec": {
   "display_name": "Python 2",
   "language": "python",
   "name": "python2"
  },
  "language_info": {
   "codemirror_mode": {
    "name": "ipython",
    "version": 2
   },
   "file_extension": ".py",
   "mimetype": "text/x-python",
   "name": "python",
   "nbconvert_exporter": "python",
   "pygments_lexer": "ipython2",
   "version": "2.7.10"
  }
 },
 "nbformat": 4,
 "nbformat_minor": 0
}
